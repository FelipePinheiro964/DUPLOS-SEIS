{
  "nbformat": 4,
  "nbformat_minor": 0,
  "metadata": {
    "colab": {
      "provenance": [],
      "authorship_tag": "ABX9TyP8dJgKta2JIi6P841nPDYX",
      "include_colab_link": true
    },
    "kernelspec": {
      "name": "python3",
      "display_name": "Python 3"
    },
    "language_info": {
      "name": "python"
    }
  },
  "cells": [
    {
      "cell_type": "markdown",
      "metadata": {
        "id": "view-in-github",
        "colab_type": "text"
      },
      "source": [
        "<a href=\"https://colab.research.google.com/github/FelipePinheiro964/DUPLOS-SEIS/blob/main/PUCRS_Fase_2_Steam_games.ipynb\" target=\"_parent\"><img src=\"https://colab.research.google.com/assets/colab-badge.svg\" alt=\"Open In Colab\"/></a>"
      ]
    },
    {
      "cell_type": "code",
      "source": [
        "print(np.version)"
      ],
      "metadata": {
        "colab": {
          "base_uri": "https://localhost:8080/"
        },
        "id": "ehIGo3-Cxfu7",
        "outputId": "ddbe69b9-3290-4a3e-a91d-3790fb292e5d"
      },
      "execution_count": null,
      "outputs": [
        {
          "output_type": "stream",
          "name": "stdout",
          "text": [
            "<module 'numpy.version' from '/usr/local/lib/python3.10/dist-packages/numpy/version.py'>\n"
          ]
        }
      ]
    },
    {
      "cell_type": "markdown",
      "source": [
        "*TRABALHO DE PROGRAMAÇÃO PARA DADOS*\n",
        "\n",
        "_NOME:_ Felipe Pinheiro Fossá -\n",
        "_CURSO:_ Banco de Dados: ênfase em data Analytics"
      ],
      "metadata": {
        "id": "_tqUAvKRyid4"
      }
    },
    {
      "cell_type": "code",
      "source": [
        "pip install --upgrade pandas"
      ],
      "metadata": {
        "colab": {
          "base_uri": "https://localhost:8080/"
        },
        "id": "gIFapVzDq6Oq",
        "outputId": "702f3075-4358-4d66-b16d-000315a1dcb3"
      },
      "execution_count": 27,
      "outputs": [
        {
          "output_type": "stream",
          "name": "stdout",
          "text": [
            "Requirement already satisfied: pandas in /usr/local/lib/python3.10/dist-packages (2.2.2)\n",
            "Collecting pandas\n",
            "  Downloading pandas-2.2.3-cp310-cp310-manylinux_2_17_x86_64.manylinux2014_x86_64.whl.metadata (89 kB)\n",
            "\u001b[2K     \u001b[90m━━━━━━━━━━━━━━━━━━━━━━━━━━━━━━━━━━━━━━━━\u001b[0m \u001b[32m89.9/89.9 kB\u001b[0m \u001b[31m2.9 MB/s\u001b[0m eta \u001b[36m0:00:00\u001b[0m\n",
            "\u001b[?25hRequirement already satisfied: numpy>=1.22.4 in /usr/local/lib/python3.10/dist-packages (from pandas) (1.26.4)\n",
            "Requirement already satisfied: python-dateutil>=2.8.2 in /usr/local/lib/python3.10/dist-packages (from pandas) (2.8.2)\n",
            "Requirement already satisfied: pytz>=2020.1 in /usr/local/lib/python3.10/dist-packages (from pandas) (2024.2)\n",
            "Requirement already satisfied: tzdata>=2022.7 in /usr/local/lib/python3.10/dist-packages (from pandas) (2024.2)\n",
            "Requirement already satisfied: six>=1.5 in /usr/local/lib/python3.10/dist-packages (from python-dateutil>=2.8.2->pandas) (1.16.0)\n",
            "Downloading pandas-2.2.3-cp310-cp310-manylinux_2_17_x86_64.manylinux2014_x86_64.whl (13.1 MB)\n",
            "\u001b[2K   \u001b[90m━━━━━━━━━━━━━━━━━━━━━━━━━━━━━━━━━━━━━━━━\u001b[0m \u001b[32m13.1/13.1 MB\u001b[0m \u001b[31m78.9 MB/s\u001b[0m eta \u001b[36m0:00:00\u001b[0m\n",
            "\u001b[?25hInstalling collected packages: pandas\n",
            "  Attempting uninstall: pandas\n",
            "    Found existing installation: pandas 2.2.2\n",
            "    Uninstalling pandas-2.2.2:\n",
            "      Successfully uninstalled pandas-2.2.2\n",
            "\u001b[31mERROR: pip's dependency resolver does not currently take into account all the packages that are installed. This behaviour is the source of the following dependency conflicts.\n",
            "cudf-cu12 24.10.1 requires pandas<2.2.3dev0,>=2.0, but you have pandas 2.2.3 which is incompatible.\n",
            "google-colab 1.0.0 requires pandas==2.2.2, but you have pandas 2.2.3 which is incompatible.\u001b[0m\u001b[31m\n",
            "\u001b[0mSuccessfully installed pandas-2.2.3\n"
          ]
        }
      ]
    },
    {
      "cell_type": "code",
      "source": [
        "import sys\n",
        "import pandas as pd\n",
        "import matplotlib.pyplot as plt\n",
        "import numpy as np\n",
        "\n",
        "#seleção de arquivo\n",
        "f = input('Digite o nome do arquivo: ')\n",
        "\n",
        "#finalização forçada\n",
        "if str.lower(f) == 'sair':\n",
        "  print('Saindo...')\n",
        "  sys.exit('O sistema foi finalizado pelo usuario, inicie novamente para outro uso.')\n",
        "else:\n",
        "  tabela = pd.read_csv(f, sep=\",\")\n",
        "  if tabela.empty:\n",
        "    print('Arquivo vazio.')\n",
        "\n",
        "match input('Digite o número da questão: '):\n",
        "  case '0':\n",
        "    print('Saindo...')\n",
        "    sys.exit('O sistema foi finalizado pelo usuario, inicie novamente para outro uso.')\n",
        "  case '1': #questão 1\n",
        "    try:\n",
        "\n",
        "      questao_1 = tabela[['Name', 'Metacritic score', 'Release date']]\n",
        "\n",
        "      if questao_1['Release date'].duplicated().any():\n",
        "        questao_1_order = questao_1.sort_values(by= 'Release date' and 'Metacritic score', ascending=True)# Mostra os 10 maiores\n",
        "        display(questao_1_order.tail(n=10))                                                               #false mostrava os 10 menores\n",
        "\n",
        "      else:\n",
        "\n",
        "        questao_1_10 = questao_1.copy()\n",
        "        top_10_notas = questao_1_10.nlargest(10, 'Metacritic score').sort_values(by='Metacritic score', ascending=False) # mostra os maiores por ter poucos dados\n",
        "        display(top_10_notas.tail(n=10))\n",
        "\n",
        "    except FileNotFoundError:\n",
        "      print('Digite um nome válido')\n",
        "\n",
        "  case '2':\n",
        "        #try:\n",
        "          tabela_copy = tabela.copy() #cria uma copia da tabela\n",
        "          mask = tabela_copy['Genres'].str.contains('RPG', case=False, na=False) #procura todos os generos RPG\n",
        "          RPG = tabela_copy[mask] #cria uma variavel RPG para facilitar leitura\n",
        "          RPG = RPG.dropna(subset=['Genres']) #retiro qualquer genero None presente\n",
        "          print('Neste arquivo, temos:')\n",
        "          display(RPG)\n",
        "          #Media e maximo de DLCs no genero\n",
        "          print()\n",
        "\n",
        "          #DLCs do Genero RPG\n",
        "          max_DLC = RPG['DLC count'].max() #mostra o maior valor de DLCs\n",
        "          print(f'Para o genero RPG, temos {max_DLC:.2f} DLCs')\n",
        "\n",
        "          media_DLC = RPG['DLC count'].mean()\n",
        "          print(f'Em media, temos {media_DLC:.2f} DLCs presentes nesta categoria')\n",
        "\n",
        "          print()\n",
        "\n",
        "          #Media e maxima de avaliaçoes positivas\n",
        "          max_positivas = RPG['Positive'].max() #mostra o maior valor de DLCs\n",
        "          print(f'Para o genero RPG, temos {max_positivas:.2f} avalições positivas')\n",
        "\n",
        "          media_positivas = RPG['Positive'].mean()\n",
        "          print(f'Em media, temos {media_positivas:.2f} avalições positivas presentes nesta categoria')\n",
        "\n",
        "          print()\n",
        "\n",
        "          #Media e maxima de avaliaçoes positivas\n",
        "          max_negativas = RPG['Negative'].max() #mostra o maior valor de DLCs\n",
        "          print(f'Para o genero RPG, temos {max_negativas:.2f} avalições negativas')\n",
        "\n",
        "          media_negativas = RPG['Negative'].mean()\n",
        "          print(f'Em media, temos {media_negativas:.2f} avalições negativas presentes nesta categoria')\n",
        "          #screenshots e filmes a ver\n",
        "\n",
        "  case '3':\n",
        "\n",
        "## 5 empresas com mais publi\n",
        "    tabela_copy = tabela.copy()\n",
        "    empresas = tabela_copy['Publishers'].value_counts()\n",
        "    top5_empresas = empresas.head(5)\n",
        "\n",
        "    top5_empresas_index = empresas.head(5).index\n",
        "\n",
        "    top5_empresas_pagos = tabela_copy[\n",
        "\n",
        "        (tabela_copy['Publishers'].isin(top5_empresas_index)) &\n",
        "        (tabela_copy['Price'] > 0)\n",
        "\n",
        "    ]\n",
        "\n",
        "\n",
        "    media_positivas = top5_empresas_pagos.groupby('Publishers')['Positive'].mean()\n",
        "\n",
        "    mediana_positivas = top5_empresas_pagos.groupby('Publishers')['Positive'].median()\n",
        "\n",
        "    display(top5_empresas)\n",
        "    display(media_positivas)\n",
        "    display(mediana_positivas)\n",
        "\n",
        "  case '4':\n",
        "\n",
        "    tabela_copy = tabela.copy()\n",
        "\n",
        "    tabela_copy['Release date'] = pd.to_datetime(tabela_copy['Release date'], format='mixed', errors='coerce')\n",
        "\n",
        "\n",
        "    jogos_2018_2022 = tabela_copy[(tabela_copy['Release date'].dt.year >= 2018) & (tabela_copy['Release date'].dt.year <= 2022)]\n",
        "    contagem_linux = jogos_2018_2022[jogos_2018_2022['Linux']].groupby(jogos_2018_2022['Release date'].dt.year).size()\n",
        "\n",
        "    display(contagem_linux)\n",
        "\n",
        "    crescimento = contagem_linux.diff().dropna()  # Calcula a diferença ano a ano\n",
        "    cresceu = crescimento > 0  # Verifica se a diferença é positiva\n",
        "\n",
        "\n",
        "    display(crescimento)"
      ],
      "metadata": {
        "colab": {
          "base_uri": "https://localhost:8080/",
          "height": 532
        },
        "id": "MRPFIYj9ovvk",
        "outputId": "77de91d7-6aee-46e7-a543-c71260660fb2"
      },
      "execution_count": 33,
      "outputs": [
        {
          "name": "stdout",
          "output_type": "stream",
          "text": [
            "Digite o nome do arquivo: steam_games.csv\n",
            "Digite o número da questão: 4\n"
          ]
        },
        {
          "output_type": "display_data",
          "data": {
            "text/plain": [
              "Release date\n",
              "2018    1190\n",
              "2019     924\n",
              "2020    1084\n",
              "2021    1211\n",
              "2022    1311\n",
              "dtype: int64"
            ],
            "text/html": [
              "<div>\n",
              "<style scoped>\n",
              "    .dataframe tbody tr th:only-of-type {\n",
              "        vertical-align: middle;\n",
              "    }\n",
              "\n",
              "    .dataframe tbody tr th {\n",
              "        vertical-align: top;\n",
              "    }\n",
              "\n",
              "    .dataframe thead th {\n",
              "        text-align: right;\n",
              "    }\n",
              "</style>\n",
              "<table border=\"1\" class=\"dataframe\">\n",
              "  <thead>\n",
              "    <tr style=\"text-align: right;\">\n",
              "      <th></th>\n",
              "      <th>0</th>\n",
              "    </tr>\n",
              "    <tr>\n",
              "      <th>Release date</th>\n",
              "      <th></th>\n",
              "    </tr>\n",
              "  </thead>\n",
              "  <tbody>\n",
              "    <tr>\n",
              "      <th>2018</th>\n",
              "      <td>1190</td>\n",
              "    </tr>\n",
              "    <tr>\n",
              "      <th>2019</th>\n",
              "      <td>924</td>\n",
              "    </tr>\n",
              "    <tr>\n",
              "      <th>2020</th>\n",
              "      <td>1084</td>\n",
              "    </tr>\n",
              "    <tr>\n",
              "      <th>2021</th>\n",
              "      <td>1211</td>\n",
              "    </tr>\n",
              "    <tr>\n",
              "      <th>2022</th>\n",
              "      <td>1311</td>\n",
              "    </tr>\n",
              "  </tbody>\n",
              "</table>\n",
              "</div><br><label><b>dtype:</b> int64</label>"
            ]
          },
          "metadata": {}
        },
        {
          "output_type": "display_data",
          "data": {
            "text/plain": [
              "Release date\n",
              "2019   -266.0\n",
              "2020    160.0\n",
              "2021    127.0\n",
              "2022    100.0\n",
              "dtype: float64"
            ],
            "text/html": [
              "<div>\n",
              "<style scoped>\n",
              "    .dataframe tbody tr th:only-of-type {\n",
              "        vertical-align: middle;\n",
              "    }\n",
              "\n",
              "    .dataframe tbody tr th {\n",
              "        vertical-align: top;\n",
              "    }\n",
              "\n",
              "    .dataframe thead th {\n",
              "        text-align: right;\n",
              "    }\n",
              "</style>\n",
              "<table border=\"1\" class=\"dataframe\">\n",
              "  <thead>\n",
              "    <tr style=\"text-align: right;\">\n",
              "      <th></th>\n",
              "      <th>0</th>\n",
              "    </tr>\n",
              "    <tr>\n",
              "      <th>Release date</th>\n",
              "      <th></th>\n",
              "    </tr>\n",
              "  </thead>\n",
              "  <tbody>\n",
              "    <tr>\n",
              "      <th>2019</th>\n",
              "      <td>-266.0</td>\n",
              "    </tr>\n",
              "    <tr>\n",
              "      <th>2020</th>\n",
              "      <td>160.0</td>\n",
              "    </tr>\n",
              "    <tr>\n",
              "      <th>2021</th>\n",
              "      <td>127.0</td>\n",
              "    </tr>\n",
              "    <tr>\n",
              "      <th>2022</th>\n",
              "      <td>100.0</td>\n",
              "    </tr>\n",
              "  </tbody>\n",
              "</table>\n",
              "</div><br><label><b>dtype:</b> float64</label>"
            ]
          },
          "metadata": {}
        }
      ]
    },
    {
      "cell_type": "code",
      "source": [
        "import pandas as pd\n",
        "\n",
        "# Supondo que 'tabela' já esteja definido e contém as colunas 'ReleaseDate' e 'Linux'\n",
        "# Exemplo de criação de DataFrame (substitua isso pela sua tabela real)\n",
        "# tabela = pd.DataFrame({\n",
        "#     'ReleaseDate': ['2018-01-15', '2019-05-20', '2020-03-10', '2021-07-25', '2022-11-05'],\n",
        "#     'Linux': [True, False, True, True, False]\n",
        "# })\n",
        "\n",
        "# Fazendo uma cópia da tabela original\n",
        "tabela_copy = tabela.copy()\n",
        "\n",
        "# Convertendo a coluna 'ReleaseDate' para o tipo datetime\n",
        "tabela_copy['ReleaseDate'] = pd.to_datetime(tabela_copy['ReleaseDate'])\n",
        "\n",
        "# Filtrando os jogos lançados entre 2018 e 2022\n",
        "jogos_filtrados = tabela_copy[(tabela_copy['ReleaseDate'].dt.year >= 2018) & (tabela_copy['ReleaseDate'].dt.year <= 2022)]\n",
        "\n",
        "# Contando a quantidade de jogos compatíveis com Linux por ano\n",
        "contagem_linux = jogos_filtrados[jogos_filtrados['Linux']].groupby(jogos_filtrados['ReleaseDate'].dt.year).size()\n",
        "\n",
        "# Exibindo a contagem de jogos compatíveis com Linux por ano\n",
        "print(\"Contagem de jogos compatíveis com Linux por ano:\")\n",
        "print(contagem_linux)\n",
        "\n",
        "# Verificando se houve crescimento\n",
        "crescimento = contagem_linux.diff().dropna()  # Calcula a diferença ano a ano\n",
        "cresceu = crescimento > 0  # Verifica se a diferença é positiva\n",
        "\n",
        "# Exibindo resultados\n",
        "print(\"\\nCrescimento de jogos compatíveis com Linux entre 2018 e 2022:\")\n",
        "print(crescimento)\n",
        "print(\"Houve crescimento em algum ano?\", cresceu.any())"
      ],
      "metadata": {
        "id": "KPtdGRWZc2Ur"
      },
      "execution_count": null,
      "outputs": []
    }
  ]
}